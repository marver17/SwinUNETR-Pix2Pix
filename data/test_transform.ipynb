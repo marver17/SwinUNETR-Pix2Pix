{
 "cells": [
  {
   "cell_type": "code",
   "execution_count": null,
   "id": "7ed47c30",
   "metadata": {},
   "outputs": [
    {
     "name": "stderr",
     "output_type": "stream",
     "text": [
      "/opt/conda/envs/monai/lib/python3.12/site-packages/tqdm/auto.py:21: TqdmWarning: IProgress not found. Please update jupyter and ipywidgets. See https://ipywidgets.readthedocs.io/en/stable/user_install.html\n",
      "  from .autonotebook import tqdm as notebook_tqdm\n"
     ]
    }
   ],
   "source": [
    "%load_ext autoreload\n",
    "%autoreload 2\n",
    "import torch\n",
    "import monai\n",
    "from monai.transforms import (\n",
    "    MapTransform,\n",
    "    Compose,\n",
    "    LoadImaged,\n",
    "    SaveImaged,\n",
    "    EnsureChannelFirstd,\n",
    "    EnsureTyped,\n",
    "    Spacingd,\n",
    "    Orientationd,\n",
    "    KeepLargestConnectedComponentd,\n",
    "    FillHolesd,\n",
    "    KeepLargestConnectedComponent, \n",
    "    FillHoles\n",
    ")\n",
    "from monai.data import decollate_batch\n",
    "import numpy as np\n",
    "import os\n",
    "import matplotlib.pyplot as plt\n",
    "import sys\n",
    "repo_path = \"/home/jovyan/work/repository/CT2MR/Generation_clean/\"\n",
    "sys.path.append(repo_path)\n",
    "os.chdir(repo_path)\n",
    "from data.solid_head_transform import GenerateSolidHeadMaskd,ApplyMaskAsBackgroundd\n"
   ]
  },
  {
   "cell_type": "code",
   "execution_count": null,
   "id": "63cf3473",
   "metadata": {},
   "outputs": [],
   "source": [
    "def visualize(data_dict, slice_idx=None):\n",
    "    \"\"\"Visualizza una slice centrale se slice_idx non è specificato.\"\"\"\n",
    "    ct_masked = data_dict[\"ct\"].cpu().numpy().squeeze()\n",
    "    mr_masked = data_dict[\"mr\"].cpu().numpy().squeeze()\n",
    "    mask = data_dict[\"head_mask\"].cpu().numpy().squeeze()\n",
    "\n",
    "    if slice_idx is None:\n",
    "        slice_idx = ct_masked.shape[2] // 2\n",
    "\n",
    "    print(f\"Visualizzazione della slice: {slice_idx}\")\n",
    "\n",
    "    plt.figure(\"Risultati MONAI\", figsize=(18, 6))\n",
    "    \n",
    "    plt.subplot(1, 3, 1)\n",
    "    plt.title(\"CT Mascherata\")\n",
    "    plt.imshow(ct_masked[:, :, slice_idx], cmap=\"gray\")\n",
    "    plt.axis('off')\n",
    "\n",
    "    plt.subplot(1, 3, 2)\n",
    "    plt.title(\"MR Mascherata\")\n",
    "    plt.imshow(mr_masked[:, :, slice_idx], cmap=\"gray\")\n",
    "    plt.axis('off')\n",
    "\n",
    "    plt.subplot(1, 3, 3)\n",
    "    plt.title(\"Maschera Finale Solida\")\n",
    "    plt.imshow(mask[:, :, slice_idx], cmap=\"gray\")\n",
    "    plt.axis('off')\n",
    "\n",
    "    plt.show()"
   ]
  },
  {
   "cell_type": "code",
   "execution_count": null,
   "id": "085db44d",
   "metadata": {},
   "outputs": [],
   "source": [
    "\n",
    "\n",
    "\n",
    "output_dir = \"treansform_test_output\"\n",
    "\n",
    "\n",
    "ct_path = \"/home/jovyan/work/data/CTMR/DATASET/FDGMR-FTD/sub-95229/processed/CT/CTonMR/sub-95229ctMRspace.nii.gz\"\n",
    "mr_path = \"/home/jovyan/work/data/CTMR/DATASET/FDGMR-FTD/sub-95229/sub-95229_t1w.nii.gz\"\n",
    "\n",
    "if not os.path.exists(ct_path) or not os.path.exists(mr_path):\n",
    "    print(\"Errore: Percorsi dei file non validi.\")\n",
    "    print(f\"Verifica che '{ct_path}' e '{mr_path}' esistano.\")\n",
    "    exit()\n",
    "\n",
    "files = [{\"ct\": ct_path, \"mr\": mr_path}]\n",
    "\n",
    "\n",
    "device = torch.device(\"cuda\" if torch.cuda.is_available() else \"cpu\")\n",
    "#device = torch.device(\"cpu\")\n",
    "print(f\"Utilizzo del device: {device}\")\n",
    "\n",
    "transforms = Compose([\n",
    "    LoadImaged(keys=[\"ct\", \"mr\"], reader=\"ITKReader\"),\n",
    "    EnsureChannelFirstd(keys=[\"ct\", \"mr\"]),\n",
    "#    Spacingd(keys=[\"ct\", \"mr\"], pixdim=(1.5, 1.5, 1.5), mode=(\"bilinear\", \"bilinear\")),\n",
    "#    Orientationd(keys=[\"ct\", \"mr\"], axcodes=\"RAS\"),\n",
    "    EnsureTyped(keys=[\"ct\", \"mr\"], device=device, track_meta=True),\n",
    "    \n",
    "    GenerateSolidHeadMaskd(keys=(\"ct\", \"mr\"), new_key=\"head_mask\"),\n",
    "    ApplyMaskAsBackgroundd(\n",
    "            keys=[\"ct\", \"mr\"], \n",
    "            mask_key=\"head_mask\", \n",
    "            background_values={\"ct\": -1024, \"mr\": 0}\n",
    "        ),\n",
    "    \n",
    "    SaveImaged(keys=\"head_mask\", output_dir=output_dir, output_postfix=\"_solid_mask\", resample=False, print_log=True),\n",
    "    SaveImaged(keys=\"ct\", output_dir=output_dir, output_postfix=\"_ct_masked\", resample=False, print_log=True),\n",
    "    SaveImaged(keys=\"mr\", output_dir=output_dir, output_postfix=\"_mr_masked\", resample=False, print_log=True),\n",
    "])\n",
    "\n",
    "print(\"\\nInizio del processo di trasformazione...\")\n",
    "result_dict = transforms(files[0])\n",
    "print(\"Processo completato con successo!\")\n",
    "\n",
    "visualize(result_dict)"
   ]
  },
  {
   "cell_type": "markdown",
   "id": "3bc6ec3f",
   "metadata": {},
   "source": [
    "## Applico la trasformazione ai dati\n",
    "\n",
    "Molto pesante se non lo faccio prima, quindi preferisco preprocessare i dati"
   ]
  },
  {
   "cell_type": "code",
   "execution_count": 2,
   "id": "4775dc1a",
   "metadata": {},
   "outputs": [],
   "source": [
    "import os\n",
    "import sys\n",
    "repo_path = \"/home/jovyan/work/repository/CT2MR/Generation_clean/\"\n",
    "sys.path.append(repo_path)\n",
    "os.chdir(repo_path)\n",
    "\n",
    "from data.datautils import MR2CTfindImages\n",
    "import yaml\n",
    "from utils import util"
   ]
  },
  {
   "cell_type": "code",
   "execution_count": 3,
   "id": "4f6eb0cf",
   "metadata": {},
   "outputs": [],
   "source": [
    "with open('experiments/MR2CT/options_1.yaml', 'r') as file:\n",
    "    options = yaml.safe_load(file)\n",
    "\n",
    "\n",
    "opt = util.DotDict(options)\n",
    "dataset_option = util.DotDict(options['data'])\n",
    "training_option = util.DotDict(options[\"training\"])"
   ]
  },
  {
   "cell_type": "code",
   "execution_count": 4,
   "id": "e5faca68",
   "metadata": {},
   "outputs": [
    {
     "name": "stdout",
     "output_type": "stream",
     "text": [
      "Dataset selezionati: ['OASIS3', 'AMY-MR', 'AMYFDGMR-MOV', 'Ginevra', 'MRADV-PT', 'FDGMR-FTD']\n",
      "Elaborando dataset: OASIS3\n",
      "Warning: Directory CT non trovata o vuota per il soggetto OAS30417 nel dataset OASIS3 (/home/jovyan/work/data/CTMR/DATASET/OASIS3/OAS30417/processed/CT/CTonMR).\n",
      "Warning: Coppia MR/CT incompleta per il soggetto OAS30417 nel dataset OASIS3: CT. Ignorato.\n",
      "Warning: File MR (t1w) mancante per il soggetto OAS30871 nel dataset OASIS3.\n",
      "Warning: Directory CT non trovata o vuota per il soggetto OAS30871 nel dataset OASIS3 (/home/jovyan/work/data/CTMR/DATASET/OASIS3/OAS30871/processed/CT/CTonMR).\n",
      "Warning: Coppia MR/CT incompleta per il soggetto OAS30871 nel dataset OASIS3: MR, CT. Ignorato.\n",
      "Warning: File CT (ctMRspace) mancante per il soggetto OAS30246 nel dataset OASIS3.\n",
      "Warning: Coppia MR/CT incompleta per il soggetto OAS30246 nel dataset OASIS3: CT. Ignorato.\n",
      "Warning: File MR (t1w) mancante per il soggetto OAS30731-3 nel dataset OASIS3.\n",
      "Warning: Directory CT non trovata o vuota per il soggetto OAS30731-3 nel dataset OASIS3 (/home/jovyan/work/data/CTMR/DATASET/OASIS3/OAS30731-3/processed/CT/CTonMR).\n",
      "Warning: Coppia MR/CT incompleta per il soggetto OAS30731-3 nel dataset OASIS3: MR, CT. Ignorato.\n",
      "Elaborando dataset: AMY-MR\n",
      "Elaborando dataset: AMYFDGMR-MOV\n",
      "Elaborando dataset: Ginevra\n",
      "Warning: File MR (t1w) mancante per il soggetto Ginevra nel dataset Ginevra.\n",
      "Warning: Directory CT non trovata o vuota per il soggetto Ginevra nel dataset Ginevra (/home/jovyan/work/data/CTMR/DATASET/Ginevra/Ginevra/processed/CT/CTonMR).\n",
      "Warning: Coppia MR/CT incompleta per il soggetto Ginevra nel dataset Ginevra: MR, CT. Ignorato.\n",
      "Elaborando dataset: MRADV-PT\n",
      "Elaborando dataset: FDGMR-FTD\n",
      "Dataset selezionati: ['RF', 'SynthRAD2023']\n",
      "Elaborando dataset: RF\n",
      "Elaborando dataset: SynthRAD2023\n",
      "Warning: File CT (ctMRspace) mancante per il soggetto sub-1BA012 nel dataset SynthRAD2023.\n",
      "Warning: Coppia MR/CT incompleta per il soggetto sub-1BA012 nel dataset SynthRAD2023: CT. Ignorato.\n",
      "Warning: File CT (ctMRspace) mancante per il soggetto sub-1BA076 nel dataset SynthRAD2023.\n",
      "Warning: Coppia MR/CT incompleta per il soggetto sub-1BA076 nel dataset SynthRAD2023: CT. Ignorato.\n",
      "Warning: File CT (ctMRspace) mancante per il soggetto sub-1BA001 nel dataset SynthRAD2023.\n",
      "Warning: Coppia MR/CT incompleta per il soggetto sub-1BA001 nel dataset SynthRAD2023: CT. Ignorato.\n"
     ]
    }
   ],
   "source": [
    "train_image_paths, val_image_paths = MR2CTfindImages(dataset_option.basic_information,False)\n",
    "test_image_paths = MR2CTfindImages(dataset_option.basic_information,True)"
   ]
  },
  {
   "cell_type": "code",
   "execution_count": 5,
   "id": "92891c68",
   "metadata": {},
   "outputs": [],
   "source": [
    "from data.solid_head_transform import GenerateSolidHeadMaskd,ApplyMaskAsBackgroundd\n",
    "\n",
    "\n",
    "device = torch.device(\"cuda:0\")\n",
    "transforms = Compose([\n",
    "    LoadImaged(keys=[\"CT\", \"MR\"], reader=\"ITKReader\",image_only = False),\n",
    "    EnsureChannelFirstd(keys=[\"CT\", \"MR\"]),\n",
    "    # Spacingd(keys=[\"CT\", \"MR\"], pixdim=(1.5, 1.5, 1.5), mode=(\"bilinear\", \"bilinear\")),\n",
    "    # Orientationd(keys=[\"CT\", \"MR\"], axcodes=\"RAS\"),\n",
    "    EnsureTyped(keys=[\"CT\", \"MR\"], device=device, track_meta=True),\n",
    "    \n",
    "    GenerateSolidHeadMaskd(keys=(\"CT\", \"MR\"), new_key=\"head_mask\"),\n",
    "    ApplyMaskAsBackgroundd(\n",
    "            keys=[\"CT\", \"MR\"], \n",
    "            mask_key=\"head_mask\", \n",
    "            background_values={\"CT\": -1024, \"MR\": 0}\n",
    "        ),\n",
    "])\n",
    "\n"
   ]
  },
  {
   "cell_type": "code",
   "execution_count": 6,
   "id": "899ed468",
   "metadata": {},
   "outputs": [],
   "source": [
    "image_paths = train_image_paths + val_image_paths + test_image_paths"
   ]
  },
  {
   "cell_type": "code",
   "execution_count": 7,
   "id": "87a6d8f2",
   "metadata": {},
   "outputs": [],
   "source": [
    "batch_size = 1"
   ]
  },
  {
   "cell_type": "code",
   "execution_count": 8,
   "id": "56b61213",
   "metadata": {},
   "outputs": [],
   "source": [
    "from monai.data import Dataset,DataLoader,NibabelWriter\n",
    "dataset = Dataset(\n",
    "    data=image_paths,\n",
    "    transform=transforms,\n",
    ")\n",
    "dataloader = DataLoader(\n",
    "    dataset,\n",
    "    batch_size=batch_size,\n",
    "    shuffle=False,\n",
    "    num_workers=0,\n",
    "    pin_memory=False,\n",
    ")\n",
    "\n",
    "\n"
   ]
  },
  {
   "cell_type": "code",
   "execution_count": 9,
   "id": "026a257b",
   "metadata": {},
   "outputs": [],
   "source": [
    "batch_data = next(iter(dataloader))"
   ]
  },
  {
   "cell_type": "code",
   "execution_count": 10,
   "id": "7696add5",
   "metadata": {},
   "outputs": [],
   "source": [
    "writer = NibabelWriter()"
   ]
  },
  {
   "cell_type": "code",
   "execution_count": null,
   "id": "99e54f64",
   "metadata": {},
   "outputs": [
    {
     "name": "stderr",
     "output_type": "stream",
     "text": [
      "  0%|          | 10/2085 [00:50<2:51:18,  4.95s/it]"
     ]
    },
    {
     "name": "stderr",
     "output_type": "stream",
     "text": [
      " 60%|██████    | 1258/2090 [2:14:28<40:06,  2.89s/it]   "
     ]
    }
   ],
   "source": [
    "from tqdm import tqdm\n",
    "for batch_data in tqdm(dataloader):\n",
    "    for i in range(batch_size):\n",
    "        ct_tensor = batch_data[\"CT\"][i]       \n",
    "        mr_tensor = batch_data[\"MR\"][i]\n",
    "\n",
    "        ct_meta = {key: val[i] for key, val in batch_data[\"CT_meta_dict\"].items()}\n",
    "        mr_meta = {key: val[i] for key, val in batch_data[\"MR_meta_dict\"].items()}\n",
    "\n",
    "\n",
    "        ct_name = os.path.join(os.path.dirname(ct_meta[\"filename_or_obj\"]),os.path.basename(ct_meta[\"filename_or_obj\"]).replace(\"ctMRspace.nii.gz\",\"ctMRspaceMRCTmasked.nii.gz\"))\n",
    "        mr_name = os.path.join(os.path.dirname(mr_meta[\"filename_or_obj\"]),\"processed\",\"MR\",os.path.basename(mr_meta[\"filename_or_obj\"]).replace(\"_t1w.nii.gz\",\"mrMRCTmasked.nii.gz\"))\n",
    "\n",
    "        # Salva il tensore CT processato\n",
    "        writer.set_data_array(ct_tensor, channel_dim=0)\n",
    "        writer.set_metadata(ct_meta)\n",
    "        writer.write(ct_name, verbose=False)\n",
    "\n",
    "        # Salva il tensore MR processato\n",
    "        writer.set_data_array(mr_tensor, channel_dim=0)\n",
    "        writer.set_metadata(mr_meta)\n",
    "        writer.write(mr_name, verbose=False)"
   ]
  },
  {
   "cell_type": "code",
   "execution_count": null,
   "id": "b5e24093",
   "metadata": {},
   "outputs": [],
   "source": []
  }
 ],
 "metadata": {
  "kernelspec": {
   "display_name": "monai",
   "language": "python",
   "name": "python3"
  },
  "language_info": {
   "codemirror_mode": {
    "name": "ipython",
    "version": 3
   },
   "file_extension": ".py",
   "mimetype": "text/x-python",
   "name": "python",
   "nbconvert_exporter": "python",
   "pygments_lexer": "ipython3",
   "version": "3.12.0"
  }
 },
 "nbformat": 4,
 "nbformat_minor": 5
}
